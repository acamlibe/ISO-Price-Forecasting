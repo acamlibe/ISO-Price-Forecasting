{
 "cells": [
  {
   "cell_type": "code",
   "execution_count": 24,
   "id": "20deb608-6b81-4677-bd49-5dee6f31faa2",
   "metadata": {},
   "outputs": [],
   "source": [
    "import tensorflow as tf\n",
    "import numpy as np\n",
    "import pandas as pd\n",
    "import matplotlib.pyplot as plt\n",
    "import seaborn as sns"
   ]
  },
  {
   "cell_type": "code",
   "execution_count": 56,
   "id": "bb603cb8-2c53-4da2-beb4-429d94899dd0",
   "metadata": {},
   "outputs": [
    {
     "data": {
      "text/html": [
       "<div>\n",
       "<style scoped>\n",
       "    .dataframe tbody tr th:only-of-type {\n",
       "        vertical-align: middle;\n",
       "    }\n",
       "\n",
       "    .dataframe tbody tr th {\n",
       "        vertical-align: top;\n",
       "    }\n",
       "\n",
       "    .dataframe thead th {\n",
       "        text-align: right;\n",
       "    }\n",
       "</style>\n",
       "<table border=\"1\" class=\"dataframe\">\n",
       "  <thead>\n",
       "    <tr style=\"text-align: right;\">\n",
       "      <th></th>\n",
       "      <th>energy</th>\n",
       "      <th>Day sin</th>\n",
       "      <th>Day cos</th>\n",
       "      <th>Year sin</th>\n",
       "      <th>Year cos</th>\n",
       "    </tr>\n",
       "  </thead>\n",
       "  <tbody>\n",
       "    <tr>\n",
       "      <th>0</th>\n",
       "      <td>34.86</td>\n",
       "      <td>2.504006e-13</td>\n",
       "      <td>1.000000</td>\n",
       "      <td>0.010364</td>\n",
       "      <td>0.999946</td>\n",
       "    </tr>\n",
       "    <tr>\n",
       "      <th>1</th>\n",
       "      <td>33.72</td>\n",
       "      <td>2.588190e-01</td>\n",
       "      <td>0.965926</td>\n",
       "      <td>0.011081</td>\n",
       "      <td>0.999939</td>\n",
       "    </tr>\n",
       "    <tr>\n",
       "      <th>2</th>\n",
       "      <td>32.40</td>\n",
       "      <td>5.000000e-01</td>\n",
       "      <td>0.866025</td>\n",
       "      <td>0.011798</td>\n",
       "      <td>0.999930</td>\n",
       "    </tr>\n",
       "    <tr>\n",
       "      <th>3</th>\n",
       "      <td>25.88</td>\n",
       "      <td>7.071068e-01</td>\n",
       "      <td>0.707107</td>\n",
       "      <td>0.012515</td>\n",
       "      <td>0.999922</td>\n",
       "    </tr>\n",
       "    <tr>\n",
       "      <th>4</th>\n",
       "      <td>29.65</td>\n",
       "      <td>8.660254e-01</td>\n",
       "      <td>0.500000</td>\n",
       "      <td>0.013231</td>\n",
       "      <td>0.999912</td>\n",
       "    </tr>\n",
       "    <tr>\n",
       "      <th>...</th>\n",
       "      <td>...</td>\n",
       "      <td>...</td>\n",
       "      <td>...</td>\n",
       "      <td>...</td>\n",
       "      <td>...</td>\n",
       "    </tr>\n",
       "    <tr>\n",
       "      <th>61332</th>\n",
       "      <td>33.34</td>\n",
       "      <td>-9.659258e-01</td>\n",
       "      <td>0.258819</td>\n",
       "      <td>-0.005218</td>\n",
       "      <td>0.999986</td>\n",
       "    </tr>\n",
       "    <tr>\n",
       "      <th>61333</th>\n",
       "      <td>34.53</td>\n",
       "      <td>-8.660254e-01</td>\n",
       "      <td>0.500000</td>\n",
       "      <td>-0.004501</td>\n",
       "      <td>0.999990</td>\n",
       "    </tr>\n",
       "    <tr>\n",
       "      <th>61334</th>\n",
       "      <td>32.16</td>\n",
       "      <td>-7.071068e-01</td>\n",
       "      <td>0.707107</td>\n",
       "      <td>-0.003785</td>\n",
       "      <td>0.999993</td>\n",
       "    </tr>\n",
       "    <tr>\n",
       "      <th>61335</th>\n",
       "      <td>27.93</td>\n",
       "      <td>-5.000000e-01</td>\n",
       "      <td>0.866025</td>\n",
       "      <td>-0.003068</td>\n",
       "      <td>0.999995</td>\n",
       "    </tr>\n",
       "    <tr>\n",
       "      <th>61336</th>\n",
       "      <td>27.65</td>\n",
       "      <td>-2.588190e-01</td>\n",
       "      <td>0.965926</td>\n",
       "      <td>-0.002351</td>\n",
       "      <td>0.999997</td>\n",
       "    </tr>\n",
       "  </tbody>\n",
       "</table>\n",
       "<p>61337 rows × 5 columns</p>\n",
       "</div>"
      ],
      "text/plain": [
       "       energy       Day sin   Day cos  Year sin  Year cos\n",
       "0       34.86  2.504006e-13  1.000000  0.010364  0.999946\n",
       "1       33.72  2.588190e-01  0.965926  0.011081  0.999939\n",
       "2       32.40  5.000000e-01  0.866025  0.011798  0.999930\n",
       "3       25.88  7.071068e-01  0.707107  0.012515  0.999922\n",
       "4       29.65  8.660254e-01  0.500000  0.013231  0.999912\n",
       "...       ...           ...       ...       ...       ...\n",
       "61332   33.34 -9.659258e-01  0.258819 -0.005218  0.999986\n",
       "61333   34.53 -8.660254e-01  0.500000 -0.004501  0.999990\n",
       "61334   32.16 -7.071068e-01  0.707107 -0.003785  0.999993\n",
       "61335   27.93 -5.000000e-01  0.866025 -0.003068  0.999995\n",
       "61336   27.65 -2.588190e-01  0.965926 -0.002351  0.999997\n",
       "\n",
       "[61337 rows x 5 columns]"
      ]
     },
     "execution_count": 56,
     "metadata": {},
     "output_type": "execute_result"
    }
   ],
   "source": [
    "df = pd.read_csv('Data/Prices/MAINE.csv', usecols=['date', 'energy'])\n",
    "df"
   ]
  },
  {
   "cell_type": "code",
   "execution_count": 62,
   "id": "c01ed32a-6774-4107-bb85-bd79001c28c6",
   "metadata": {},
   "outputs": [],
   "source": [
    "prices = df['energy'].to_numpy()"
   ]
  },
  {
   "cell_type": "code",
   "execution_count": 63,
   "id": "8b214887-043a-458e-bd0c-50b98fe0b8bc",
   "metadata": {},
   "outputs": [],
   "source": [
    "train_data = prices[:50000]"
   ]
  },
  {
   "cell_type": "code",
   "execution_count": 64,
   "id": "f097ad59-32ca-4dc1-8c62-4749b11ce7c4",
   "metadata": {},
   "outputs": [],
   "source": [
    "X_train, y_train = [], []\n",
    "\n",
    "for i in range(24, len(train_data) - 24):\n",
    "    X_train.append(train_data[i-24:i])\n",
    "    y_train.append(train_data[i:i+24])"
   ]
  },
  {
   "cell_type": "code",
   "execution_count": 65,
   "id": "eee6f297-c378-41cc-b0c4-06f96cceaeae",
   "metadata": {},
   "outputs": [],
   "source": [
    "X_train, y_train = np.array(X_train), np.array(y_train)"
   ]
  },
  {
   "cell_type": "code",
   "execution_count": 66,
   "id": "8c2d3a8d-67e4-40c3-a9ef-d6f2f2607f09",
   "metadata": {},
   "outputs": [
    {
     "data": {
      "text/plain": [
       "((49952, 24), (49952, 24))"
      ]
     },
     "execution_count": 66,
     "metadata": {},
     "output_type": "execute_result"
    }
   ],
   "source": [
    "X_train.shape, y_train.shape"
   ]
  },
  {
   "cell_type": "code",
   "execution_count": 30,
   "id": "f6fe4ff6-a3b0-421d-9163-93d69d1ac8ad",
   "metadata": {},
   "outputs": [],
   "source": [
    "from sklearn.preprocessing import MinMaxScaler\n",
    "\n",
    "x_scaler = MinMaxScaler()\n",
    "\n",
    "X_train = x_scaler.fit_transform(X_train)"
   ]
  },
  {
   "cell_type": "code",
   "execution_count": 31,
   "id": "161aefd4-d534-41c3-b058-1b2f95985c4b",
   "metadata": {},
   "outputs": [],
   "source": [
    "y_scaler = MinMaxScaler()\n",
    "\n",
    "y_train = y_scaler.fit_transform(y_train)"
   ]
  },
  {
   "cell_type": "code",
   "execution_count": 32,
   "id": "0d9174c2-102b-4cac-9a70-c41d45aba6dc",
   "metadata": {},
   "outputs": [
    {
     "data": {
      "text/plain": [
       "((49952, 24), (49952, 24))"
      ]
     },
     "execution_count": 32,
     "metadata": {},
     "output_type": "execute_result"
    }
   ],
   "source": [
    "X_train.shape, y_train.shape"
   ]
  },
  {
   "cell_type": "code",
   "execution_count": 33,
   "id": "15ec1dfd-3728-4162-b289-69a1204cba13",
   "metadata": {},
   "outputs": [],
   "source": [
    "X_train = X_train.reshape(49952, 24, 1)"
   ]
  },
  {
   "cell_type": "code",
   "execution_count": 34,
   "id": "cffb755c-4e64-44eb-baef-16e76e5c635c",
   "metadata": {},
   "outputs": [
    {
     "data": {
      "text/plain": [
       "(49952, 24, 1)"
      ]
     },
     "execution_count": 34,
     "metadata": {},
     "output_type": "execute_result"
    }
   ],
   "source": [
    "X_train.shape"
   ]
  },
  {
   "cell_type": "code",
   "execution_count": 35,
   "id": "03363523-f128-4044-b84c-0660b827c485",
   "metadata": {},
   "outputs": [],
   "source": [
    "test_data = prices[50000:]"
   ]
  },
  {
   "cell_type": "code",
   "execution_count": 36,
   "id": "5509bc1f-941a-4f4a-b1f1-0e805e7808f3",
   "metadata": {},
   "outputs": [],
   "source": [
    "X_test, y_test = [], []\n",
    "\n",
    "for i in range(24, len(test_data) - 24):\n",
    "    X_test.append(test_data[i-24:i])\n",
    "    y_test.append(test_data[i:i+24])"
   ]
  },
  {
   "cell_type": "code",
   "execution_count": 37,
   "id": "78d7f0bb-9142-4f7d-a1a3-5d3696b5f73c",
   "metadata": {},
   "outputs": [],
   "source": [
    "X_test, y_test = np.array(X_test), np.array(y_test)"
   ]
  },
  {
   "cell_type": "code",
   "execution_count": 38,
   "id": "7da5e50f-4c86-40e9-b1d3-ae2f14613681",
   "metadata": {},
   "outputs": [],
   "source": [
    "X_test = x_scaler.transform(X_test)\n",
    "y_test = y_scaler.transform(y_test)"
   ]
  },
  {
   "cell_type": "code",
   "execution_count": 39,
   "id": "526a66a1-100e-414c-a4e6-8126e52b4d80",
   "metadata": {},
   "outputs": [
    {
     "data": {
      "text/plain": [
       "(11289, 24)"
      ]
     },
     "execution_count": 39,
     "metadata": {},
     "output_type": "execute_result"
    }
   ],
   "source": [
    "X_test.shape"
   ]
  },
  {
   "cell_type": "code",
   "execution_count": 40,
   "id": "2b4092a7-ecfc-4f86-8dd6-1b1c34ed4228",
   "metadata": {},
   "outputs": [],
   "source": [
    "X_test = X_test.reshape(11289, 24, 1)"
   ]
  },
  {
   "cell_type": "code",
   "execution_count": 41,
   "id": "4d656446-1175-41ca-8e00-1183e2cae146",
   "metadata": {},
   "outputs": [],
   "source": [
    "y_true = y_scaler.inverse_transform(y_test)"
   ]
  },
  {
   "cell_type": "code",
   "execution_count": 42,
   "id": "b8587170-4db4-4e8f-a2a1-b3d75a370681",
   "metadata": {},
   "outputs": [
    {
     "data": {
      "text/plain": [
       "array([[60.03, 62.69, 73.18, ..., 53.29, 53.22, 53.09],\n",
       "       [62.69, 73.18, 83.63, ..., 53.22, 53.09, 53.16],\n",
       "       [73.18, 83.63, 90.18, ..., 53.09, 53.16, 55.54],\n",
       "       ...,\n",
       "       [36.51, 29.01, 27.52, ..., 42.56, 33.34, 34.53],\n",
       "       [29.01, 27.52, 25.67, ..., 33.34, 34.53, 32.16],\n",
       "       [27.52, 25.67, 23.88, ..., 34.53, 32.16, 27.93]])"
      ]
     },
     "execution_count": 42,
     "metadata": {},
     "output_type": "execute_result"
    }
   ],
   "source": [
    "y_true"
   ]
  },
  {
   "cell_type": "code",
   "execution_count": 46,
   "id": "869613a8-a8fb-49f6-b5c1-f7a8d86fb954",
   "metadata": {},
   "outputs": [],
   "source": [
    "from tensorflow.keras.models import Sequential\n",
    "from tensorflow.keras.layers import LSTM, InputLayer, Dense\n",
    "\n",
    "lstm_model = Sequential([\n",
    "    InputLayer(shape=(24, 1)),\n",
    "    LSTM(units=128, activation='relu', return_sequences=True),\n",
    "    LSTM(units=64, activation='relu', return_sequences=True),\n",
    "    LSTM(units=32, activation='relu'),\n",
    "    Dense(units=24)\n",
    "])"
   ]
  },
  {
   "cell_type": "code",
   "execution_count": 47,
   "id": "0596fede-a3a4-4677-86fb-dd76fc5e3a9d",
   "metadata": {},
   "outputs": [],
   "source": [
    "lstm_model.compile(loss='mse', optimizer='adam')"
   ]
  },
  {
   "cell_type": "code",
   "execution_count": 48,
   "id": "12636b8c-f03c-4657-80f7-369632c99dcf",
   "metadata": {},
   "outputs": [
    {
     "name": "stdout",
     "output_type": "stream",
     "text": [
      "Epoch 1/10\n"
     ]
    },
    {
     "name": "stderr",
     "output_type": "stream",
     "text": [
      "2024-04-14 19:02:35.167922: I external/local_xla/xla/stream_executor/cuda/cuda_dnn.cc:465] Loaded cuDNN version 8907\n"
     ]
    },
    {
     "name": "stdout",
     "output_type": "stream",
     "text": [
      "\u001b[1m  37/1405\u001b[0m \u001b[37m━━━━━━━━━━━━━━━━━━━━\u001b[0m \u001b[1m5s\u001b[0m 4ms/step - loss: 0.0142"
     ]
    },
    {
     "name": "stderr",
     "output_type": "stream",
     "text": [
      "I0000 00:00:1713135756.073826   58151 device_compiler.h:188] Compiled cluster using XLA!  This line is logged at most once for the lifetime of the process.\n"
     ]
    },
    {
     "name": "stdout",
     "output_type": "stream",
     "text": [
      "\u001b[1m1405/1405\u001b[0m \u001b[32m━━━━━━━━━━━━━━━━━━━━\u001b[0m\u001b[37m\u001b[0m \u001b[1m9s\u001b[0m 5ms/step - loss: 0.0031 - val_loss: 0.0063\n",
      "Epoch 2/10\n",
      "\u001b[1m1405/1405\u001b[0m \u001b[32m━━━━━━━━━━━━━━━━━━━━\u001b[0m\u001b[37m\u001b[0m \u001b[1m6s\u001b[0m 4ms/step - loss: 0.0015 - val_loss: 0.0055\n",
      "Epoch 3/10\n",
      "\u001b[1m1405/1405\u001b[0m \u001b[32m━━━━━━━━━━━━━━━━━━━━\u001b[0m\u001b[37m\u001b[0m \u001b[1m6s\u001b[0m 4ms/step - loss: 0.0014 - val_loss: 0.0054\n",
      "Epoch 4/10\n",
      "\u001b[1m1405/1405\u001b[0m \u001b[32m━━━━━━━━━━━━━━━━━━━━\u001b[0m\u001b[37m\u001b[0m \u001b[1m6s\u001b[0m 4ms/step - loss: 0.0013 - val_loss: 0.0047\n",
      "Epoch 5/10\n",
      "\u001b[1m1405/1405\u001b[0m \u001b[32m━━━━━━━━━━━━━━━━━━━━\u001b[0m\u001b[37m\u001b[0m \u001b[1m6s\u001b[0m 4ms/step - loss: 0.0012 - val_loss: 0.0048\n",
      "Epoch 6/10\n",
      "\u001b[1m1405/1405\u001b[0m \u001b[32m━━━━━━━━━━━━━━━━━━━━\u001b[0m\u001b[37m\u001b[0m \u001b[1m6s\u001b[0m 4ms/step - loss: 0.0011 - val_loss: 0.0044\n",
      "Epoch 7/10\n",
      "\u001b[1m1405/1405\u001b[0m \u001b[32m━━━━━━━━━━━━━━━━━━━━\u001b[0m\u001b[37m\u001b[0m \u001b[1m6s\u001b[0m 4ms/step - loss: 0.0010 - val_loss: 0.0043\n",
      "Epoch 8/10\n",
      "\u001b[1m1405/1405\u001b[0m \u001b[32m━━━━━━━━━━━━━━━━━━━━\u001b[0m\u001b[37m\u001b[0m \u001b[1m6s\u001b[0m 4ms/step - loss: 0.0010 - val_loss: 0.0044\n",
      "Epoch 9/10\n",
      "\u001b[1m1405/1405\u001b[0m \u001b[32m━━━━━━━━━━━━━━━━━━━━\u001b[0m\u001b[37m\u001b[0m \u001b[1m6s\u001b[0m 4ms/step - loss: 0.0010 - val_loss: 0.0044\n",
      "Epoch 10/10\n",
      "\u001b[1m1405/1405\u001b[0m \u001b[32m━━━━━━━━━━━━━━━━━━━━\u001b[0m\u001b[37m\u001b[0m \u001b[1m6s\u001b[0m 4ms/step - loss: 0.0010 - val_loss: 0.0045\n"
     ]
    }
   ],
   "source": [
    "history = lstm_model.fit(X_train, y_train, epochs=10, validation_split=0.1)"
   ]
  },
  {
   "cell_type": "code",
   "execution_count": 49,
   "id": "acbc808f-6b59-49cc-8424-91a198c2b0e0",
   "metadata": {},
   "outputs": [
    {
     "name": "stdout",
     "output_type": "stream",
     "text": [
      "\u001b[1m353/353\u001b[0m \u001b[32m━━━━━━━━━━━━━━━━━━━━\u001b[0m\u001b[37m\u001b[0m \u001b[1m1s\u001b[0m 2ms/step\n"
     ]
    }
   ],
   "source": [
    "y_pred = lstm_model.predict(X_test)"
   ]
  },
  {
   "cell_type": "code",
   "execution_count": 50,
   "id": "5d9b4b07-41bc-424f-8c8b-b0f09a508986",
   "metadata": {},
   "outputs": [],
   "source": [
    "y_pred = y_scaler.inverse_transform(y_pred)"
   ]
  },
  {
   "cell_type": "code",
   "execution_count": 51,
   "id": "2433b2a8-38fb-4c5d-ac98-3c2119177e86",
   "metadata": {},
   "outputs": [
    {
     "data": {
      "text/plain": [
       "array([[63.78066 , 66.3327  , 70.03257 , ..., 57.998344, 56.71553 ,\n",
       "        56.916573],\n",
       "       [67.09141 , 73.13791 , 77.83218 , ..., 56.1236  , 56.77875 ,\n",
       "        57.8084  ],\n",
       "       [69.61259 , 76.12338 , 77.620056, ..., 55.607647, 57.19582 ,\n",
       "        59.782936],\n",
       "       ...,\n",
       "       [30.790398, 28.69503 , 25.652145, ..., 37.34521 , 36.3297  ,\n",
       "        34.8577  ],\n",
       "       [34.031376, 30.941711, 27.299473, ..., 40.014942, 39.192554,\n",
       "        37.985706],\n",
       "       [26.756678, 24.875395, 22.474009, ..., 37.401596, 35.20005 ,\n",
       "        32.116253]], dtype=float32)"
      ]
     },
     "execution_count": 51,
     "metadata": {},
     "output_type": "execute_result"
    }
   ],
   "source": [
    "y_pred"
   ]
  },
  {
   "cell_type": "code",
   "execution_count": 52,
   "id": "c7078abe-2eff-4f2e-bd7f-7f8c0979eafa",
   "metadata": {},
   "outputs": [
    {
     "data": {
      "text/plain": [
       "0.2009730286922898"
      ]
     },
     "execution_count": 52,
     "metadata": {},
     "output_type": "execute_result"
    }
   ],
   "source": [
    "np.average(abs(y_true - y_pred)/y_true)"
   ]
  },
  {
   "cell_type": "code",
   "execution_count": 55,
   "id": "0ad6a455-b556-4a37-8ddd-8d5c67331711",
   "metadata": {},
   "outputs": [
    {
     "data": {
      "text/plain": [
       "[<matplotlib.lines.Line2D at 0x7eff890a7250>]"
      ]
     },
     "execution_count": 55,
     "metadata": {},
     "output_type": "execute_result"
    },
    {
     "data": {
      "image/png": "[encoded data removed]",
      "text/plain": [
       "<Figure size 640x480 with 1 Axes>"
      ]
     },
     "metadata": {},
     "output_type": "display_data"
    }
   ],
   "source": [
    "plt.plot(y_pred[0])\n",
    "plt.plot(y_true[0])"
   ]
  },
  {
   "cell_type": "code",
   "execution_count": null,
   "id": "285cdb9a-2cdb-4c94-add7-87824ae4348b",
   "metadata": {},
   "outputs": [],
   "source": []
  }
 ],
 "metadata": {
  "kernelspec": {
   "display_name": "Python 3 (ipykernel)",
   "language": "python",
   "name": "python3"
  },
  "language_info": {
   "codemirror_mode": {
    "name": "ipython",
    "version": 3
   },
   "file_extension": ".py",
   "mimetype": "text/x-python",
   "name": "python",
   "nbconvert_exporter": "python",
   "pygments_lexer": "ipython3",
   "version": "3.10.14"
  }
 },
 "nbformat": 4,
 "nbformat_minor": 5
}
